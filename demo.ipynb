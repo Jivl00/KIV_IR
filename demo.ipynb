{
 "cells": [
  {
   "cell_type": "code",
   "execution_count": 1,
   "id": "initial_id",
   "metadata": {
    "collapsed": true,
    "ExecuteTime": {
     "end_time": "2024-05-09T15:45:53.331047800Z",
     "start_time": "2024-05-09T15:45:50.699823100Z"
    }
   },
   "outputs": [],
   "source": [
    "from searcher import search\n",
    "import preprocessing_pipelines\n",
    "from Index import Index"
   ]
  },
  {
   "cell_type": "markdown",
   "source": [
    "# Pipeliny pro předzpracování - nutno vybrat stemer nebo lematizer\n",
    " - Při načítání indexu nutno nastavit správné předzpracování"
   ],
   "metadata": {
    "collapsed": false
   },
   "id": "1c1a8ae2e92ed9d1"
  },
  {
   "cell_type": "code",
   "execution_count": 2,
   "outputs": [],
   "source": [
    "# STEMMER\n",
    "pipeline = preprocessing_pipelines.pipeline_stemmer\n",
    "# LEMMATIZER\n",
    "# pipeline = preprocessing_pipelines.pipeline_lemmatizer"
   ],
   "metadata": {
    "collapsed": false,
    "ExecuteTime": {
     "end_time": "2024-05-09T15:45:53.900259700Z",
     "start_time": "2024-05-09T15:45:53.888261300Z"
    }
   },
   "id": "53b0c2b2105fd899"
  },
  {
   "cell_type": "markdown",
   "source": [
    "# Tvorba indexu\n",
    "***\n",
    "#### Inicializace obecně: `<index variable name> = Index(pipeline, <path to index folder>, <name of your index>)`\n",
    "- ze složky: `<index variable name>.create_index_from_folder(<path to data folder>)`\n",
    "- na záklazě seedovací URL: `<index variable name>.create_index_from_url(<seed URL>)`\n",
    "***\n",
    "#### Uložení/načtení indexu\n",
    "- `<index variable name>.save_index()`\n",
    "- `<index variable name>.load_index()`"
   ],
   "metadata": {
    "collapsed": false
   },
   "id": "83c363b2bbc18445"
  },
  {
   "cell_type": "code",
   "execution_count": 3,
   "outputs": [
    {
     "name": "stdout",
     "output_type": "stream",
     "text": [
      "Loaded 855 documents\n"
     ]
    }
   ],
   "source": [
    "my_index = Index(pipeline, \"test_index\", \"test_index\")\n",
    "my_index.create_index_from_folder(\"data\")"
   ],
   "metadata": {
    "collapsed": false,
    "ExecuteTime": {
     "end_time": "2024-05-09T15:57:44.380090100Z",
     "start_time": "2024-05-09T15:57:29.005198800Z"
    }
   },
   "id": "821d77330d96037c"
  },
  {
   "cell_type": "code",
   "execution_count": 4,
   "outputs": [],
   "source": [
    "my_index.save_index()"
   ],
   "metadata": {
    "collapsed": false,
    "ExecuteTime": {
     "end_time": "2024-05-09T16:00:08.021230Z",
     "start_time": "2024-05-09T16:00:05.762688600Z"
    }
   },
   "id": "59662908ed866e10"
  },
  {
   "cell_type": "markdown",
   "source": [
    "# Nastevení klíčových slov pro vyhledávač\n",
    "- `<index variable name>.set_keywords()`"
   ],
   "metadata": {
    "collapsed": false
   },
   "id": "548af6095fb6c812"
  },
  {
   "cell_type": "code",
   "execution_count": 5,
   "outputs": [],
   "source": [
    "my_index.set_keywords()"
   ],
   "metadata": {
    "collapsed": false,
    "ExecuteTime": {
     "end_time": "2024-05-09T16:03:32.129802700Z",
     "start_time": "2024-05-09T16:03:30.694806400Z"
    }
   },
   "id": "3b2c4e2c17496b5a"
  },
  {
   "cell_type": "markdown",
   "source": [
    "# Smazání dokumentu z indexu\n",
    "***\n",
    "- `<index variable name>.delete_document(<ID dokumentu ke smazání>)`"
   ],
   "metadata": {
    "collapsed": false
   },
   "id": "ab81ed17b83ca1c0"
  },
  {
   "cell_type": "code",
   "execution_count": 9,
   "outputs": [
    {
     "name": "stdout",
     "output_type": "stream",
     "text": [
      "==================================================\n",
      "Searching for the query: železná dýka in all fields\n",
      "Found 35 documents in total\n",
      "Top 3 documents:\n",
      "Document 850 with score 1.253\n",
      "Title: Železná dýka\n",
      "\n",
      "\n",
      "Document 851 with score 0.546\n",
      "Title: Železná ruda\n",
      "\n",
      "\n",
      "Document 854 with score 0.426\n",
      "Title: Železný meč\n",
      "\n",
      "\n",
      "Removing document \"Železná dýka\" with id 850\n",
      "==================================================\n",
      "Searching for the query: železná dýka in all fields\n",
      "Found 34 documents in total\n",
      "Top 3 documents:\n",
      "Document 851 with score 0.881\n",
      "Title: Železná ruda\n",
      "\n",
      "\n",
      "Document 854 with score 0.831\n",
      "Title: Železný meč\n",
      "\n",
      "\n",
      "Document 849 with score 0.551\n",
      "Title: Železná bitevní sekera\n"
     ]
    }
   ],
   "source": [
    "_ = search(\"železná dýka\", \"\", 3, my_index, \"tf-idf\", verbose=True) # empty string for search in all fields\n",
    "my_index.delete_document(850)\n",
    "_ = search(\"železná dýka\", \"\", 3, my_index, \"tf-idf\", verbose=True)"
   ],
   "metadata": {
    "collapsed": false,
    "ExecuteTime": {
     "end_time": "2024-05-09T16:07:03.422807200Z",
     "start_time": "2024-05-09T16:07:03.386806300Z"
    }
   },
   "id": "8d0ddbaace6e3178"
  },
  {
   "cell_type": "markdown",
   "source": [
    "# Přidání nového dokumentu do indexu\n",
    "***\n",
    "- z URL: `<index variable name>.create_document_from_url(<URL stránky>)` <code style=\"background:red;color:white\">! pozor na formát stránky !</code>\n",
    "- ručně: `<index variable name>.create_document(<dokument>)`\n",
    "***\n",
    "Formát dokumentu: slovník s položkami title, table_of_contents (list), infobox, content\n",
    "- kromě table_of_contents všechny položky očekávány jako řetězce\n",
    "- table_of_contents očekáván jako pole řetězců\n",
    "- pokud položka nemá existovat (např. dokument nemá obsah) nutno zadat prázdný řetězec"
   ],
   "metadata": {
    "collapsed": false
   },
   "id": "ed9f67a7e67eb22b"
  },
  {
   "cell_type": "code",
   "execution_count": 10,
   "outputs": [
    {
     "name": "stdout",
     "output_type": "stream",
     "text": [
      "==================================================\n",
      "Searching for the query: železná dýka in the field title\n",
      "Found 6 documents in total\n",
      "Top 3 documents:\n",
      "Document 851 with score 0.707\n",
      "Title: Železná ruda\n",
      "\n",
      "\n",
      "Document 854 with score 0.679\n",
      "Title: Železný meč\n",
      "\n",
      "\n",
      "Document 849 with score 0.501\n",
      "Title: Železná bitevní sekera\n",
      "\n",
      "\n",
      "https://theelderscrolls.fandom.com/cs/wiki/%C5%BDelezn%C3%A1_d%C3%BDka\n",
      "['Železná dýka']\n",
      "Adding document \"Železná dýka\" with id 850\n",
      "==================================================\n",
      "Searching for the query: železná dýka in the field title\n",
      "Found 7 documents in total\n",
      "Top 3 documents:\n",
      "Document 850 with score 1.000\n",
      "Title: Železná dýka\n",
      "\n",
      "\n",
      "Document 851 with score 0.404\n",
      "Title: Železná ruda\n",
      "\n",
      "\n",
      "Document 854 with score 0.387\n",
      "Title: Železný meč\n"
     ]
    }
   ],
   "source": [
    "_ = search(\"železná dýka\", \"title\", 3, my_index, \"tf-idf\", verbose=True)\n",
    "my_index.create_document_from_url(\"/cs/wiki/Železná_dýka\")\n",
    "_ = search(\"železná dýka\", \"title\", 3, my_index, \"tf-idf\", verbose=True)"
   ],
   "metadata": {
    "collapsed": false,
    "ExecuteTime": {
     "end_time": "2024-05-09T16:16:21.716329600Z",
     "start_time": "2024-05-09T16:16:21.572699300Z"
    }
   },
   "id": "e69f6ba2d675b2ec"
  },
  {
   "cell_type": "markdown",
   "source": [
    "# Úprava existujícího dokumentu v indexu\n",
    "***\n",
    "- `<index variable name>.update_document(<ID upravovaného dokumentu>, <náhrada>, <sekce k upravení>)`\n",
    "***\n",
    "Formát sekcí v dokumentu:\n",
    "- kromě table_of_contents všechny položky očekávány jako řetězce\n",
    "- table_of_contents očekáván jako pole řetězců\n",
    "- pokud položka nemá existovat (např. dokument nemá obsah) nutno zadat prázdný řetězec"
   ],
   "metadata": {
    "collapsed": false
   },
   "id": "94eff1b3466cd9f"
  },
  {
   "cell_type": "code",
   "execution_count": 12,
   "outputs": [
    {
     "name": "stdout",
     "output_type": "stream",
     "text": [
      "Updating document \"Železná dýka\" with id 850\n",
      "==================================================\n",
      "Searching for the query: železná dýka in the field title\n",
      "Found 7 documents in total\n",
      "Top 3 documents:\n",
      "Document 850 with score 0.655\n",
      "Title: Železná dýka je zbraň\n",
      "\n",
      "\n",
      "Document 851 with score 0.404\n",
      "Title: Železná ruda\n",
      "\n",
      "\n",
      "Document 854 with score 0.387\n",
      "Title: Železný meč\n"
     ]
    }
   ],
   "source": [
    "my_index.update_document(850, \"Železná dýka je zbraň\", \"title\")\n",
    "_ = search(\"železná dýka\", \"title\", 3, my_index, \"tf-idf\", verbose=True)"
   ],
   "metadata": {
    "collapsed": false,
    "ExecuteTime": {
     "end_time": "2024-05-09T16:25:43.983762Z",
     "start_time": "2024-05-09T16:25:43.968735800Z"
    }
   },
   "id": "cb36ced0a19f4613"
  }
 ],
 "metadata": {
  "kernelspec": {
   "name": "python3",
   "language": "python",
   "display_name": "Python 3 (ipykernel)"
  },
  "language_info": {
   "codemirror_mode": {
    "name": "ipython",
    "version": 2
   },
   "file_extension": ".py",
   "mimetype": "text/x-python",
   "name": "python",
   "nbconvert_exporter": "python",
   "pygments_lexer": "ipython2",
   "version": "2.7.6"
  }
 },
 "nbformat": 4,
 "nbformat_minor": 5
}
